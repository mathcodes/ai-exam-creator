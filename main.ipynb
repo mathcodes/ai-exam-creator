{
 "cells": [
  {
   "cell_type": "code",
   "execution_count": 54,
   "metadata": {},
   "outputs": [],
   "source": [
    "import os\n",
    "import openai"
   ]
  },
  {
   "cell_type": "code",
   "execution_count": 55,
   "metadata": {},
   "outputs": [],
   "source": [
    "openai.api_key = os.environ['OPENAI_API_KEY']"
   ]
  },
  {
   "cell_type": "code",
   "execution_count": 56,
   "metadata": {},
   "outputs": [],
   "source": [
    "# TO AVOID MODEL HALLUCINATION: \n",
    "# 1. setup preface: only answer it the company exists, otherwise say \"I don't know\"\n"
   ]
  },
  {
   "cell_type": "code",
   "execution_count": 57,
   "metadata": {},
   "outputs": [],
   "source": [
    "def create_test_prompt(topic, num_questions, num_possible_answers):\n",
    "    prompt=f\"Create a multiple choice quiz on the topic of {topic} consisting of {num_questions} questions. \"\\\n",
    "          +f\"Each question should have {num_possible_answers} options. \"\\\n",
    "          +f\"Also include the correct answer for each question using the string 'CORRECT ANSWER:'\"\n",
    "    return prompt"
   ]
  },
  {
   "cell_type": "code",
   "execution_count": 58,
   "metadata": {},
   "outputs": [],
   "source": [
    "response = openai.Completion.create(engine=\"text-davinci-003\", \n",
    "                                    prompt=create_test_prompt(\"Full Stack Developer Interview Questions\", 5, 4), \n",
    "                                    max_tokens=256,\n",
    "                                    temperature=0.7)"
   ]
  },
  {
   "cell_type": "code",
   "execution_count": 59,
   "metadata": {},
   "outputs": [
    {
     "name": "stdout",
     "output_type": "stream",
     "text": [
      "\n",
      "\n",
      "Q1. What is the most important skill a Full Stack Developer should possess?\n",
      "A. Coding\n",
      "B. Communication\n",
      "C. Problem-solving\n",
      "D. Design\n",
      "CORRECT ANSWER: B. Communication\n",
      "\n",
      "Q2. What type of development requires a Full Stack Developer?\n",
      "A. Front-end only\n",
      "B. Back-end only\n",
      "C. Mobile-only\n",
      "D. Full-stack\n",
      "CORRECT ANSWER: D. Full-stack\n",
      "\n",
      "Q3. When interviewing a Full Stack Developer, what type of questions should you ask?\n",
      "A. SQL\n",
      "B. HTML\n",
      "C. Technical\n",
      "D. Non-technical\n",
      "CORRECT ANSWER: C. Technical\n",
      "\n",
      "Q4. What type of environment is ideal for a Full Stack Developer?\n",
      "A. Collaborative\n",
      "B. Isolated\n",
      "C. Open\n",
      "D. Closed\n",
      "CORRECT ANSWER: A. Collaborative\n",
      "\n",
      "Q5. What type of development language is commonly used by Full Stack Developers?\n",
      "A. Java\n",
      "B. Python\n",
      "C. Ruby\n",
      "D. JavaScript\n",
      "CORRECT ANSWER: D. JavaScript\n"
     ]
    }
   ],
   "source": [
    "print(response['choices'][0]['text'])"
   ]
  }
 ],
 "metadata": {
  "kernelspec": {
   "display_name": "Python 3",
   "language": "python",
   "name": "python3"
  },
  "language_info": {
   "codemirror_mode": {
    "name": "ipython",
    "version": 3
   },
   "file_extension": ".py",
   "mimetype": "text/x-python",
   "name": "python",
   "nbconvert_exporter": "python",
   "pygments_lexer": "ipython3",
   "version": "3.11.2"
  },
  "orig_nbformat": 4
 },
 "nbformat": 4,
 "nbformat_minor": 2
}
