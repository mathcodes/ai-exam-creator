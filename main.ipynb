{
 "cells": [
  {
   "cell_type": "code",
   "execution_count": 194,
   "metadata": {},
   "outputs": [],
   "source": [
    "import os\n",
    "import openai"
   ]
  },
  {
   "cell_type": "code",
   "execution_count": 195,
   "metadata": {},
   "outputs": [],
   "source": [
    "openai.api_key = os.environ['OPENAI_API_KEY'] "
   ]
  },
  {
   "cell_type": "code",
   "execution_count": 196,
   "metadata": {},
   "outputs": [],
   "source": [
    "# TO AVOID MODEL HALLUCINATION: \n",
    "# 1. setup preface: only answer it the company exists, otherwise say \"I don't know\"\n"
   ]
  },
  {
   "cell_type": "code",
   "execution_count": 197,
   "metadata": {},
   "outputs": [],
   "source": [
    "def create_test_prompt(topic, num_questions, num_possible_answers):\n",
    "    prompt=f\"Create a multiple choice quiz on the topic of {topic} consisting of {num_questions} questions. \"\\\n",
    "          +f\"Each question should have {num_possible_answers} options. \"\\\n",
    "          +f\"Each question should python code as an answer. \"\\\n",
    "          +f\"Also include the correct answer for each question using the string 'CORRECT ANSWER:'\"\n",
    "    return prompt"
   ]
  },
  {
   "cell_type": "code",
   "execution_count": 198,
   "metadata": {},
   "outputs": [],
   "source": [
    "response = openai.Completion.create(engine=\"text-davinci-003\", \n",
    "                                    prompt=create_test_prompt(\"Python concepts\", 5, 4), \n",
    "                                    max_tokens=256,\n",
    "                                    temperature=0.7)"
   ]
  },
  {
   "cell_type": "code",
   "execution_count": 199,
   "metadata": {},
   "outputs": [
    {
     "name": "stdout",
     "output_type": "stream",
     "text": [
      "\n",
      "\n",
      "Q1. What does the 'not' keyword do in Python?\n",
      "A. Reverses the condition\n",
      "B. Returns the opposite value\n",
      "C. Swaps the true and false values\n",
      "D. Converts the value to a boolean\n",
      "\n",
      "CORRECT ANSWER: B. Returns the opposite value\n"
     ]
    }
   ],
   "source": [
    "print(response['choices'][0]['text'])"
   ]
  },
  {
   "cell_type": "code",
   "execution_count": 200,
   "metadata": {},
   "outputs": [],
   "source": [
    "def create_student_view(test, num_questions):\n",
    "    student_view = {1:''}\n",
    "    question_number = 1\n",
    "    for line in test.split('\\n'):\n",
    "      if not line.startswith(\"CORRECT ANSWER:\"):\n",
    "        student_view[question_number] += line + '\\n'\n",
    "      else:\n",
    "        if question_number < num_questions:\n",
    "          question_number += 1\n",
    "          student_view[question_number] = ''\n",
    "    return student_view\n"
   ]
  },
  {
   "cell_type": "code",
   "execution_count": 201,
   "metadata": {},
   "outputs": [],
   "source": [
    "result = create_student_view(response['choices'][0]['text'], 5)"
   ]
  },
  {
   "cell_type": "code",
   "execution_count": 202,
   "metadata": {},
   "outputs": [
    {
     "name": "stdout",
     "output_type": "stream",
     "text": [
      "\n",
      "\n",
      "Q1. What does the 'not' keyword do in Python?\n",
      "A. Reverses the condition\n",
      "B. Returns the opposite value\n",
      "C. Swaps the true and false values\n",
      "D. Converts the value to a boolean\n",
      "\n",
      "\n",
      "\n"
     ]
    }
   ],
   "source": [
    "for key in result:\n",
    "  print(result[key])"
   ]
  },
  {
   "cell_type": "code",
   "execution_count": 203,
   "metadata": {},
   "outputs": [],
   "source": [
    "def extract_answer(test, num_questions):\n",
    "    answers = {1:''}\n",
    "    question_number = 1\n",
    "    for line in test.split('\\n'):\n",
    "      if line.startswith(\"CORRECT ANSWER:\"):\n",
    "        answers[question_number] += line+'\\n'\n",
    "\n",
    "        if question_number < num_questions:\n",
    "          question_number += 1\n",
    "          answers[question_number] = ''\n",
    "    return answers"
   ]
  },
  {
   "cell_type": "code",
   "execution_count": 204,
   "metadata": {},
   "outputs": [
    {
     "data": {
      "text/plain": [
       "{1: 'CORRECT ANSWER: B. Returns the opposite value\\n', 2: ''}"
      ]
     },
     "execution_count": 204,
     "metadata": {},
     "output_type": "execute_result"
    }
   ],
   "source": [
    "extract_answer(response['choices'][0]['text'], 4)"
   ]
  },
  {
   "cell_type": "code",
   "execution_count": null,
   "metadata": {},
   "outputs": [],
   "source": [
    "student_view = create_student_view(response['choices'][0]['text'], 4)"
   ]
  },
  {
   "cell_type": "code",
   "execution_count": null,
   "metadata": {},
   "outputs": [],
   "source": [
    "answers = extract_answer(response['choices'][0]['text'], 4)"
   ]
  },
  {
   "cell_type": "code",
   "execution_count": null,
   "metadata": {},
   "outputs": [],
   "source": [
    "def take(student_view):\n",
    "    student_answers = {}\n",
    "    for question,question_view in student_view.items():\n",
    "        print(question_view)\n",
    "        answer = input(\"Enter your answer: \")\n",
    "        student_answers[question] = answer\n",
    "    return student_answers"
   ]
  },
  {
   "cell_type": "code",
   "execution_count": null,
   "metadata": {},
   "outputs": [],
   "source": [
    "student_answers = take(student_view)"
   ]
  },
  {
   "cell_type": "code",
   "execution_count": 218,
   "metadata": {},
   "outputs": [
    {
     "data": {
      "text/plain": [
       "{1: 'B', 2: 'B'}"
      ]
     },
     "execution_count": 218,
     "metadata": {},
     "output_type": "execute_result"
    }
   ],
   "source": [
    "student_answers"
   ]
  },
  {
   "cell_type": "code",
   "execution_count": 211,
   "metadata": {},
   "outputs": [
    {
     "data": {
      "text/plain": [
       "{1: 'CORRECT ANSWER: B. Returns the opposite value\\n', 2: ''}"
      ]
     },
     "execution_count": 211,
     "metadata": {},
     "output_type": "execute_result"
    }
   ],
   "source": [
    "answers"
   ]
  },
  {
   "cell_type": "code",
   "execution_count": 219,
   "metadata": {},
   "outputs": [],
   "source": [
    "def grade(correct_answer_dict,student_answers):\n",
    "  correct_answers = 0\n",
    "  for question,answer in student_answers.items():\n",
    "    print(\"question: \", question)\n",
    "    print(\"answer: \", answer)\n",
    "    print(\"correct_answer_dict[question][16]: \", correct_answer_dict[question][16])\n",
    "    print(\"answer.upper(): \", answer.upper())\n",
    "    if answer.upper() == correct_answer_dict[question][16]:\n",
    "      correct_answers += 1\n",
    "      print(\"correct_answers: \", correct_answers)\n",
    "  grade = 100*correct_answers / len(answers)\n",
    "\n",
    "  print(\"correct_answers: \", correct_answers)\n",
    "  if grade < 60:\n",
    "    passed = \"NO PASS\"\n",
    "  else:\n",
    "    passed = \"PASS\"\n",
    "\n",
    "  return  f\"{correct_answers}/{len(answers)} correct! You got {grade} grade, {passed}\""
   ]
  },
  {
   "cell_type": "code",
   "execution_count": 220,
   "metadata": {},
   "outputs": [
    {
     "data": {
      "text/plain": [
       "dict_items([(1, 'B'), (2, 'B')])"
      ]
     },
     "execution_count": 220,
     "metadata": {},
     "output_type": "execute_result"
    }
   ],
   "source": [
    "student_answers.items()\n"
   ]
  },
  {
   "cell_type": "code",
   "execution_count": 221,
   "metadata": {},
   "outputs": [
    {
     "data": {
      "text/plain": [
       "{1: 'B', 2: 'B'}"
      ]
     },
     "execution_count": 221,
     "metadata": {},
     "output_type": "execute_result"
    }
   ],
   "source": [
    "student_answers"
   ]
  },
  {
   "cell_type": "code",
   "execution_count": 222,
   "metadata": {},
   "outputs": [
    {
     "name": "stdout",
     "output_type": "stream",
     "text": [
      "question:  1\n",
      "answer:  B\n",
      "correct_answer_dict[question][16]:  B\n",
      "answer.upper():  B\n",
      "correct_answers:  1\n",
      "question:  2\n",
      "answer:  B\n"
     ]
    },
    {
     "ename": "IndexError",
     "evalue": "string index out of range",
     "output_type": "error",
     "traceback": [
      "\u001b[0;31m---------------------------------------------------------------------------\u001b[0m",
      "\u001b[0;31mIndexError\u001b[0m                                Traceback (most recent call last)",
      "Cell \u001b[0;32mIn[222], line 1\u001b[0m\n\u001b[0;32m----> 1\u001b[0m grade(answers, student_answers)\n",
      "Cell \u001b[0;32mIn[219], line 6\u001b[0m, in \u001b[0;36mgrade\u001b[0;34m(correct_answer_dict, student_answers)\u001b[0m\n\u001b[1;32m      4\u001b[0m \u001b[39mprint\u001b[39m(\u001b[39m\"\u001b[39m\u001b[39mquestion: \u001b[39m\u001b[39m\"\u001b[39m, question)\n\u001b[1;32m      5\u001b[0m \u001b[39mprint\u001b[39m(\u001b[39m\"\u001b[39m\u001b[39manswer: \u001b[39m\u001b[39m\"\u001b[39m, answer)\n\u001b[0;32m----> 6\u001b[0m \u001b[39mprint\u001b[39m(\u001b[39m\"\u001b[39m\u001b[39mcorrect_answer_dict[question][16]: \u001b[39m\u001b[39m\"\u001b[39m, correct_answer_dict[question][\u001b[39m16\u001b[39;49m])\n\u001b[1;32m      7\u001b[0m \u001b[39mprint\u001b[39m(\u001b[39m\"\u001b[39m\u001b[39manswer.upper(): \u001b[39m\u001b[39m\"\u001b[39m, answer\u001b[39m.\u001b[39mupper())\n\u001b[1;32m      8\u001b[0m \u001b[39mif\u001b[39;00m answer\u001b[39m.\u001b[39mupper() \u001b[39m==\u001b[39m correct_answer_dict[question][\u001b[39m16\u001b[39m]:\n",
      "\u001b[0;31mIndexError\u001b[0m: string index out of range"
     ]
    }
   ],
   "source": [
    "grade(answers, student_answers)"
   ]
  },
  {
   "cell_type": "code",
   "execution_count": null,
   "metadata": {},
   "outputs": [
    {
     "name": "stdout",
     "output_type": "stream",
     "text": [
      "question:  1\n",
      "answer:  A\n",
      "correct_answer_dict[question][16]:  C\n",
      "answer.upper():  A\n",
      "question:  2\n",
      "answer:  C\n",
      "correct_answer_dict[question][16]:  C\n",
      "answer.upper():  C\n",
      "correct_answers:  1\n",
      "question:  3\n",
      "answer:  C\n",
      "correct_answer_dict[question][16]:  B\n",
      "answer.upper():  C\n",
      "question:  4\n",
      "answer:  B\n",
      "correct_answer_dict[question][16]:  A\n",
      "answer.upper():  B\n",
      "correct_answers:  1\n",
      "1/4 correct! You got 25.0 grade, NO PASS\n"
     ]
    }
   ],
   "source": [
    "print(grade(answers, student_answers))"
   ]
  }
 ],
 "metadata": {
  "kernelspec": {
   "display_name": "Python 3",
   "language": "python",
   "name": "python3"
  },
  "language_info": {
   "codemirror_mode": {
    "name": "ipython",
    "version": 3
   },
   "file_extension": ".py",
   "mimetype": "text/x-python",
   "name": "python",
   "nbconvert_exporter": "python",
   "pygments_lexer": "ipython3",
   "version": "3.11.2"
  },
  "orig_nbformat": 4
 },
 "nbformat": 4,
 "nbformat_minor": 2
}
